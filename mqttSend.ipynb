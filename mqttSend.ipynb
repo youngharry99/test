{
 "cells": [
  {
   "cell_type": "code",
   "execution_count": null,
   "metadata": {},
   "outputs": [],
   "source": [
    "'''\n",
    "topic: SBC66E100AC\n",
    "paylad: 5,3,1677235643,1215,34383038,C7\n",
    "1215每次要变\n",
    "\n",
    "测试网: mqtt-alpha.smart-iov.net:8801\n",
    "username: test10\n",
    "client_id: app_test10\n",
    "mqttPassword:18cbd2b9800.aca5bc82c4ed053e9b6bed3a785e756a\n",
    "\n",
    "\n",
    "\n",
    "topic: SBC66E100AC\n",
    "paylad: 4,2,160\n",
    "\n",
    "请求车态数据\n",
    "\n",
    "订阅 U/JSON/BC66E100AC\n",
    "\n",
    "\n",
    "# set the device info, include product key, device name, and device secret\n",
    "productKey = \"a1LhUsK***\"\n",
    "deviceName = \"python***\"\n",
    "deviceSecret = \"bdd043d193782d11***\"\n",
    "\n",
    "# set timestamp, clientid, subscribe topic and publish topic\n",
    "timeStamp = str((int(round(time.time() * 1000))))\n",
    "clientId = \"192.168.****\"\n",
    "subTopic = \"/\" + productKey + \"/\" + deviceName + \"/user/get\"\n",
    "pubTopic = \"/\" + productKey + \"/\" + deviceName + \"/user/update\"\n",
    "\n",
    "\n",
    "'''"
   ]
  },
  {
   "cell_type": "code",
   "execution_count": 9,
   "metadata": {},
   "outputs": [],
   "source": [
    "import paho.mqtt.client as mqtt\n",
    "import random\n",
    "import json"
   ]
  },
  {
   "cell_type": "code",
   "execution_count": 10,
   "metadata": {},
   "outputs": [],
   "source": [
    "broker = 'mqtt-alpha.smart-iov.net'     #测试网\n",
    "port = 8801                             #端口\n",
    "topic = \"SBC66E100AC\"                   #主题\n",
    "client_id = 'app_test10'\n"
   ]
  },
  {
   "cell_type": "code",
   "execution_count": 18,
   "metadata": {},
   "outputs": [],
   "source": [
    "# 定义一个回调函数\n",
    "def on_connect(client, userdata, flags, rc):\n",
    "    print(\"Connected with result code \" + str(rc))\n",
    "    # 订阅主题\n",
    "    \n",
    "\n",
    "    \n",
    "# 消息接收的回调函数\n",
    "def on_message(client, userdata, msg):\n",
    "    print(\"Received message: \" + str(msg.payload.decode()))\n",
    "\n",
    "\n",
    "\n",
    "client = mqtt.Client(client_id)     #创建mqtt客户端\n",
    "client.on_connect = on_connect      # 将回调函数指派给客户端实例\n",
    "client.on_message = on_message\n",
    "client.connect(broker, port, 60)\n",
    "\n",
    "# 循环监听消息\n",
    "client.loop_start()\n",
    "\n",
    "# 发布消息\n",
    "client.publish(\"topic/example\", \"Hello, MQTT!\")\n",
    "\n",
    "# 停止循环监听\n",
    "client.loop_stop()\n",
    "\n",
    "#\n"
   ]
  }
 ],
 "metadata": {
  "kernelspec": {
   "display_name": "myenv1",
   "language": "python",
   "name": "python3"
  },
  "language_info": {
   "codemirror_mode": {
    "name": "ipython",
    "version": 3
   },
   "file_extension": ".py",
   "mimetype": "text/x-python",
   "name": "python",
   "nbconvert_exporter": "python",
   "pygments_lexer": "ipython3",
   "version": "3.11.3"
  },
  "orig_nbformat": 4
 },
 "nbformat": 4,
 "nbformat_minor": 2
}
